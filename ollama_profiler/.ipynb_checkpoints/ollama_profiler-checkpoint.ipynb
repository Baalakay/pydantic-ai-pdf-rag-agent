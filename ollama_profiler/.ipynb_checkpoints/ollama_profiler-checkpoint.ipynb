{
 "cells": [
  {
   "cell_type": "code",
   "execution_count": null,
   "metadata": {},
   "source": [
    "import sys\n",
    "from pathlib import Path\n",
    "sys.path.append(str(Path.home() / \"bin\"))\n",
    "\n",
    "from ollama_profiler import OllamaProfiler\n",
    "import ipywidgets as widgets\n",
    "from IPython.display import display, HTML\n",
    "\n",
    "profiler = OllamaProfiler()\n",
    "\n",
    "# Create interactive widgets\n",
    "gpu_layers = widgets.IntSlider(value=35, min=1, max=50, description='GPU Layers:')\n",
    "batch_size = widgets.IntSlider(value=1024, min=128, max=2048, step=128, description='Batch Size:')\n",
    "compute_threads = widgets.IntSlider(value=8, min=1, max=12, description='Threads:')\n",
    "\n",
    "# Run button\n",
    "run_button = widgets.Button(description='Run Test')\n",
    "\n",
    "def on_run_button_click(b):\n",
    "    metrics = profiler.run_test(\n",
    "        gpu_layers.value,\n",
    "        batch_size.value,\n",
    "        compute_threads.value\n",
    "    )\n",
    "    profiler.show_top_configurations()\n",
    "    profiler.plot_performance_history()\n",
    "\n",
    "run_button.on_click(on_run_button_click)\n",
    "\n",
    "# Display widgets\n",
    "display(gpu_layers, batch_size, compute_threads, run_button)"
   ]
  }
 ],
 "metadata": {
  "kernelspec": {
   "display_name": "Python 3",
   "language": "python",
   "name": "python3"
  }
 },
 "nbformat": 4,
 "nbformat_minor": 4
}
