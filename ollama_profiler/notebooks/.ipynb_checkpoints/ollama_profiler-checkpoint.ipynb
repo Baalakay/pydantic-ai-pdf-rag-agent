{
 "cells": [
  {
   "cell_type": "code",
   "execution_count": 1,
   "metadata": {},
   "outputs": [
    {
     "data": {
      "text/html": [
       "<pre style=\"white-space:pre;overflow-x:auto;line-height:normal;font-family:Menlo,'DejaVu Sans Mono',consolas,'Courier New',monospace\"><span style=\"color: #000080; text-decoration-color: #000080\">host.docker.internal resolves to: </span><span style=\"color: #000080; text-decoration-color: #000080; font-weight: bold\">192.168.65.254</span>\n",
       "</pre>\n"
      ],
      "text/plain": [
       "\u001b[34mhost.docker.internal resolves to: \u001b[0m\u001b[1;34m192.168.65.254\u001b[0m\n"
      ]
     },
     "metadata": {},
     "output_type": "display_data"
    },
    {
     "data": {
      "application/vnd.jupyter.widget-view+json": {
       "model_id": "3bbfd1d1184c46cbbc3ccae9b4c47ad1",
       "version_major": 2,
       "version_minor": 0
      },
      "text/plain": [
       "VBox(children=(HBox(children=(IntSlider(value=35, description='GPU Layers:', max=50, min=1, style=SliderStyle(…"
      ]
     },
     "metadata": {},
     "output_type": "display_data"
    }
   ],
   "source": [
    "import sys\n",
    "from pathlib import Path\n",
    "sys.path.append('..')\n",
    "\n",
    "# Test widget functionality\n",
    "import ipywidgets as widgets\n",
    "from IPython.display import display\n",
    "\n",
    "# Test with a simple widget first\n",
    "test_widget = widgets.IntSlider(description=\"Test\")\n",
    "display(test_widget)\n",
    "\n",
    "# If that works, then load the UI\n",
    "%run ../ollama_ui.py\n",
    "ui = create_ui()\n",
    "display(ui)"
   ]
  }
 ],
 "metadata": {
  "kernelspec": {
   "display_name": "Python 3 (ipykernel)",
   "language": "python",
   "name": "python3"
  },
  "language_info": {
   "codemirror_mode": {
    "name": "ipython",
    "version": 3
   },
   "file_extension": ".py",
   "mimetype": "text/x-python",
   "name": "python",
   "nbconvert_exporter": "python",
   "pygments_lexer": "ipython3",
   "version": "3.12.8"
  }
 },
 "nbformat": 4,
 "nbformat_minor": 4
}
